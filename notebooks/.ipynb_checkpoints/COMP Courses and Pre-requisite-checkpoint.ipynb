{
 "cells": [
  {
   "cell_type": "markdown",
   "metadata": {},
   "source": [
    "# Parse and create an oriented graph of COMP courses\n",
    "\n",
    "The idea is to parse the course website and get prerequisite field for each course, not caring wether it's an AND or OR condition."
   ]
  },
  {
   "cell_type": "code",
   "execution_count": 1,
   "metadata": {
    "collapsed": true
   },
   "outputs": [],
   "source": [
    "from time import sleep\n",
    "from random import randint\n",
    "from selenium import webdriver\n",
    "from pyvirtualdisplay import Display"
   ]
  },
  {
   "cell_type": "code",
   "execution_count": 2,
   "metadata": {
    "collapsed": true
   },
   "outputs": [],
   "source": [
    "url = \"https://w5.ab.ust.hk/wcq/cgi-bin/1710/subject/COMP\""
   ]
  },
  {
   "cell_type": "code",
   "execution_count": 3,
   "metadata": {
    "collapsed": false
   },
   "outputs": [
    {
     "name": "stdout",
     "output_type": "stream",
     "text": [
      "starting driver...\n"
     ]
    }
   ],
   "source": [
    "print('starting driver...')\n",
    "display = Display(visible=0, size=(800, 600))\n",
    "display.start()\n",
    "driver = webdriver.Chrome()\n",
    "sleep(4)"
   ]
  },
  {
   "cell_type": "code",
   "execution_count": 4,
   "metadata": {
    "collapsed": false
   },
   "outputs": [
    {
     "name": "stdout",
     "output_type": "stream",
     "text": [
      "getting page...\n"
     ]
    }
   ],
   "source": [
    "print('getting page...')\n",
    "driver.get(url)\n",
    "sleep(randint(2,3))"
   ]
  },
  {
   "cell_type": "code",
   "execution_count": 5,
   "metadata": {
    "collapsed": true
   },
   "outputs": [],
   "source": [
    "all_courses = []\n",
    "links = []\n",
    "\n",
    "for div in driver.find_elements_by_xpath('//div[@id=\"classes\"]')[0].find_elements_by_class_name('course'):\n",
    "    name = div.find_element_by_tag_name('h2').text\n",
    "    description = \"\"\n",
    "    prerequisite = \"\"\n",
    "    dept = name.split(' ')[0]\n",
    "#         print name\n",
    "    courseinfo = div.find_elements_by_xpath('./*[@class=\"courseinfo\"]/*[@class=\"courseattr popup\"]/*[@class=\"popupdetail\"]/table/tbody/tr')\n",
    "#         print len(courseinfo)\n",
    "    for info in courseinfo:\n",
    "        if info.find_element_by_tag_name('th').get_attribute('innerHTML') == 'DESCRIPTION':\n",
    "            description = info.find_element_by_tag_name('td').get_attribute('innerHTML')\n",
    "        if info.find_element_by_tag_name('th').get_attribute('innerHTML') == 'PRE-REQUISITE':\n",
    "            prerequisite = info.find_element_by_tag_name('td').get_attribute('innerHTML')\n",
    "#                 print description\n",
    "    current_course = {\n",
    "        'name':name,\n",
    "        'description':description,\n",
    "        'dept':dept,\n",
    "        'prerequisite':prerequisite\n",
    "    }\n",
    "    all_courses.append(current_course)\n",
    "        "
   ]
  },
  {
   "cell_type": "code",
   "execution_count": 6,
   "metadata": {
    "collapsed": true
   },
   "outputs": [],
   "source": [
    "# Find prerequisites"
   ]
  },
  {
   "cell_type": "markdown",
   "metadata": {},
   "source": [
    "### Open Problem\n",
    "\n",
    "Find the Regex to match COMP ISOM or MATH course codes, I couldn't figure it out myself\n",
    "\n",
    "\n",
    "#### Sample examples:\n",
    "\n",
    "```\n",
    "COMP 2011 OR COMP 2012 OR COMP 2012H\n",
    "(COMP 3711 OR COMP 3711H) AND (MATH 2111)\n",
    "COMP 1002 (prior to 2013-14) OR COMP 1004 (prior to 2013-14) OR COMP 1021 OR COMP 1022Q OR ISOM 3230\n",
    "COMP 1021 OR COMP 1022P OR COMP 1022Q OR ISOM 3230\n",
    "COMP 2611 OR [ELEC 2300 AND (COMP 1002 (prior to 2013-14) OR COMP 1004 (prior to 2013-14) OR COMP 2011 OR COMP 2012H)]\n",
    "```\n",
    "\n",
    "#### Sample outputs:\n",
    "\n",
    "```python\n",
    "[\"COMP 2011\",\"COMP 2012\",\"COMP 2012H\"]\n",
    "[\"COMP 3711\",\"COMP 3711H\",\"MATH 2111\"]\n",
    "[\"COMP 1002\",\"COMP 1004\",\"COMP 1021\",\"COMP 1022Q\",\"ISOM 3230\"]\n",
    "[\"COMP 1021\",\"COMP 1022P\",\"COMP 1022Q\",\"ISOM 3230\"]\n",
    "[\"COMP 2611\",\"ELEC 2300\",\"COMP 1002\",\"COMP 1004\",\"COMP 2011\",\"COMP 2012H\"]\n",
    "```\n",
    "\n",
    "### Never mind, found one\n",
    "\n",
    "Regex: `\\w\\w\\w+ \\d\\w+`  \n",
    "Check [https://regex101.com](https://regex101.com) and [http://regex.inginf.units.it](http://regex.inginf.units.it)"
   ]
  },
  {
   "cell_type": "code",
   "execution_count": 7,
   "metadata": {
    "collapsed": false
   },
   "outputs": [
    {
     "data": {
      "text/html": [
       "<style>.regex_match{color:red}</style><br><br><br><br><span class=\"regex_match\">COMP 1002</span> (prior to 2013-14) OR <span class=\"regex_match\">COMP 1004</span> (prior to 2013-14) OR <span class=\"regex_match\">COMP 1021</span> OR <span class=\"regex_match\">COMP 1022P</span> OR COMP1022Q<br><span class=\"regex_match\">COMP 1021</span> OR <span class=\"regex_match\">COMP 1022P</span> OR <span class=\"regex_match\">COMP 1022Q</span> OR <span class=\"regex_match\">ISOM 3230</span> OR <span class=\"regex_match\">ISOM 3320</span><br><span class=\"regex_match\">COMP 1002</span> (prior to 2013-14) OR <span class=\"regex_match\">COMP 1004</span> (prior to 2013-14) OR <span class=\"regex_match\">COMP 1021</span> OR <span class=\"regex_match\">COMP 1022Q</span> OR <span class=\"regex_match\">ISOM 3230</span><br><span class=\"regex_match\">COMP 1002</span> (prior to 2013-14) OR <span class=\"regex_match\">COMP 1004</span> (prior to 2013-14) OR <span class=\"regex_match\">COMP 1022P</span> OR <span class=\"regex_match\">COMP 1022Q</span> OR <span class=\"regex_match\">ISOM 3230</span> OR <span class=\"regex_match\">ISOM 3320</span><br><span class=\"regex_match\">COMP 1002</span> (prior to 2013-14) OR <span class=\"regex_match\">COMP 1004</span> (prior to 2013-14) OR <span class=\"regex_match\">COMP 1021</span> OR <span class=\"regex_match\">COMP 1022P</span> OR <span class=\"regex_match\">ISOM 3320</span><br><br><br><span class=\"regex_match\">COMP 1021</span> OR <span class=\"regex_match\">COMP 1022P</span> OR <span class=\"regex_match\">COMP 1022Q</span> OR <span class=\"regex_match\">ISOM 3230</span><br><span class=\"regex_match\">COMP 1004</span> (prior to 2013-14) OR <span class=\"regex_match\">COMP 2011</span><br>Grade A or above in <span class=\"regex_match\">COMP 1002</span> (prior to 2013-14) / <span class=\"regex_match\">COMP 1021</span> / <span class=\"regex_match\">COMP 1022P</span> / <span class=\"regex_match\">COMP 1022Q</span> / <span class=\"regex_match\">ISOM 3230</span><br><br><span class=\"regex_match\">COMP 1004</span> (prior to 2013-14) OR <span class=\"regex_match\">COMP 2011</span> OR <span class=\"regex_match\">COMP 2012H</span><br>A passing grade in AL Pure Mathematics/AL Applied Mathematics; OR level 3 or above in HKDSE Mathematics Extended Module M1/M2<br>Grade B or above in AL Pure Mathematics/AL Applied Mathematics; OR level 5* or above in HKDSE Mathematics Extended Module M1/M2; OR grade A- or above in <span class=\"regex_match\">MATH 1014</span>; OR grade B+ or above in <span class=\"regex_match\">MATH 1020</span> / <span class=\"regex_match\">MATH 1024</span><br><span class=\"regex_match\">COMP 2012</span> OR <span class=\"regex_match\">COMP 2012</span>H<br><span class=\"regex_match\">COMP 2012</span> OR <span class=\"regex_match\">COMP 2012</span>H<br><span class=\"regex_match\">COMP 2012</span> OR <span class=\"regex_match\">COMP 2012</span>H<br>Grade A- or above in <span class=\"regex_match\">COMP 2012</span> / <span class=\"regex_match\">COMP 2012</span>H<br><span class=\"regex_match\">COMP 2011</span> OR <span class=\"regex_match\">COMP 2012</span> OR <span class=\"regex_match\">COMP 2012</span>H<br><span class=\"regex_match\">COMP 2011</span> OR <span class=\"regex_match\">COMP 2012</span> OR <span class=\"regex_match\">COMP 2012</span>H<br><span class=\"regex_match\">COMP 2611</span> OR [<span class=\"regex_match\">ELEC 2300</span> AND (<span class=\"regex_match\">COMP 1002</span> (prior to 2013-14) OR <span class=\"regex_match\">COMP 1004</span> (prior to 2013-14) OR <span class=\"regex_match\">COMP 2011</span> OR <span class=\"regex_match\">COMP 2012H</span>)]<br><span class=\"regex_match\">COMP 2012</span> OR <span class=\"regex_match\">COMP 2012</span>H<br>(<span class=\"regex_match\">COMP 2011</span> OR <span class=\"regex_match\">COMP 2012</span> OR <span class=\"regex_match\">COMP 2012</span>H) AND (<span class=\"regex_match\">COMP 2711</span> OR <span class=\"regex_match\">COMP 2711</span>H OR <span class=\"regex_match\">MATH 2343</span>)<br>(Grade B+ or above in  <span class=\"regex_match\">COMP 2011</span> / <span class=\"regex_match\">COMP 2012</span> / <span class=\"regex_match\">COMP 2012</span>H) AND (grade A- or above in <span class=\"regex_match\">COMP 2711</span> / <span class=\"regex_match\">COMP 2711</span>H / <span class=\"regex_match\">MATH 2343</span>)<br>(<span class=\"regex_match\">COMP 3711</span> OR <span class=\"regex_match\">COMP 3711</span>H) AND (<span class=\"regex_match\">MATH 2111</span> OR <span class=\"regex_match\">MATH 2121</span> OR <span class=\"regex_match\">MATH 2350</span>)<br><span class=\"regex_match\">COMP 2012</span> OR <span class=\"regex_match\">COMP 2012</span>H<br><span class=\"regex_match\">COMP 3311</span><br><span class=\"regex_match\">IELM 2510</span> OR <span class=\"regex_match\">ISOM 2500</span> OR <span class=\"regex_match\">LIFS 3150</span> OR <span class=\"regex_match\">MATH 2411</span><br>(<span class=\"regex_match\">COMP 2011</span> OR <span class=\"regex_match\">COMP 2012</span> OR <span class=\"regex_match\">COMP 2012</span>H) AND (<span class=\"regex_match\">MATH 2011</span> OR <span class=\"regex_match\">MATH 2111</span> OR <span class=\"regex_match\">MATH 2350</span> OR <span class=\"regex_match\">MATH 2351</span> OR <span class=\"regex_match\">MATH 2352</span>)<br><span class=\"regex_match\">COMP 2011</span><br><span class=\"regex_match\">COMP 3511</span><br><span class=\"regex_match\">COMP 2011</span> OR <span class=\"regex_match\">COMP 2012H</span><br><br>(<span class=\"regex_match\">COMP 2012</span> OR <span class=\"regex_match\">COMP 2012</span>H) AND (<span class=\"regex_match\">COMP 3711</span> OR <span class=\"regex_match\">COMP 3711</span>H)<br><br><br><br><br><br><br><br><br><br><br><br><br><br><br><br><br><br><br><span class=\"regex_match\">COMP 6911</span><br><br><br><br><br><br><br>"
      ],
      "text/plain": [
       "<IPython.core.display.HTML object>"
      ]
     },
     "metadata": {},
     "output_type": "display_data"
    }
   ],
   "source": [
    "import re\n",
    "p = re.compile('\\w\\w\\w+ \\d\\w+')\n",
    "html = \"<style>.regex_match{color:red}</style>\"\n",
    "\n",
    "for course in all_courses:\n",
    "    text = course['prerequisite']\n",
    "    prerequisite_list = p.findall(course['prerequisite'])\n",
    "    course['prerequisite_list'] = prerequisite_list\n",
    "    for highlight in prerequisite_list:\n",
    "        text = re.sub(str(highlight),r'<span class=\"regex_match\">\\g<0></span>',text)\n",
    "    html+=text+'<br>'\n",
    "#     print text\n",
    "\n",
    "from IPython.core.display import display, HTML\n",
    "display(HTML(html))\n",
    "# small error with Honors courses, they come from the display, issue with \"COMP1022Q\" which is not labelled as the others."
   ]
  },
  {
   "cell_type": "code",
   "execution_count": 8,
   "metadata": {
    "collapsed": false
   },
   "outputs": [
    {
     "name": "stdout",
     "output_type": "stream",
     "text": [
      "[u'COMP 1001', u'COMP 1021', u'COMP 1022P', u'COMP 1022Q', u'COMP 1029A', u'COMP 1002', u'COMP 1004', u'COMP 1029C', u'ISOM 3230', u'ISOM 3320', u'COMP 1029J', u'COMP 1029P', u'COMP 1029V', u'COMP 1991', u'COMP 1999', u'COMP 2011', u'COMP 2012', u'COMP 2012H', u'COMP 2521', u'COMP 2611', u'COMP 2711', u'COMP 2711H', u'MATH 1014', u'MATH 1020', u'MATH 1024', u'COMP 3021', u'COMP 3031', u'COMP 3111', u'COMP 3111H', u'COMP 3211', u'COMP 3311', u'COMP 3511', u'ELEC 2300', u'COMP 3632', u'COMP 3711', u'MATH 2343', u'COMP 3711H', u'COMP 3721', u'MATH 2111', u'MATH 2121', u'MATH 2350', u'COMP 4021', u'COMP 4311', u'COMP 4331', u'IELM 2510', u'ISOM 2500', u'LIFS 3150', u'MATH 2411', u'COMP 4421', u'MATH 2011', u'MATH 2351', u'MATH 2352', u'COMP 4461', u'COMP 4621', u'COMP 4651', u'COMP 4900', u'COMP 4901J', u'COMP 4971A', u'COMP 4971C', u'COMP 4971D', u'COMP 4971F', u'COMP 4981', u'COMP 4981H', u'COMP 4988', u'COMP 4989', u'COMP 5112', u'COMP 5211', u'COMP 5331', u'COMP 5411', u'COMP 5621', u'COMP 5631', u'COMP 5711', u'COMP 6311E', u'COMP 6770', u'COMP 6911', u'COMP 6912', u'COMP 6921C', u'COMP 6921U', u'COMP 6921V', u'COMP 6931A', u'COMP 6990', u'COMP 7990']\n",
      "\n",
      "\n",
      "[(u'COMP 1029A', u'COMP 1002'), (u'COMP 1029A', u'COMP 1004'), (u'COMP 1029A', u'COMP 1021'), (u'COMP 1029A', u'COMP 1022P'), (u'COMP 1029C', u'COMP 1021'), (u'COMP 1029C', u'COMP 1022P'), (u'COMP 1029C', u'COMP 1022Q'), (u'COMP 1029C', u'ISOM 3230'), (u'COMP 1029C', u'ISOM 3320'), (u'COMP 1029J', u'COMP 1002'), (u'COMP 1029J', u'COMP 1004'), (u'COMP 1029J', u'COMP 1021'), (u'COMP 1029J', u'COMP 1022Q'), (u'COMP 1029J', u'ISOM 3230'), (u'COMP 1029P', u'COMP 1002'), (u'COMP 1029P', u'COMP 1004'), (u'COMP 1029P', u'COMP 1022P'), (u'COMP 1029P', u'COMP 1022Q'), (u'COMP 1029P', u'ISOM 3230'), (u'COMP 1029P', u'ISOM 3320'), (u'COMP 1029V', u'COMP 1002'), (u'COMP 1029V', u'COMP 1004'), (u'COMP 1029V', u'COMP 1021'), (u'COMP 1029V', u'COMP 1022P'), (u'COMP 1029V', u'ISOM 3320'), (u'COMP 2011', u'COMP 1021'), (u'COMP 2011', u'COMP 1022P'), (u'COMP 2011', u'COMP 1022Q'), (u'COMP 2011', u'ISOM 3230'), (u'COMP 2012', u'COMP 1004'), (u'COMP 2012', u'COMP 2011'), (u'COMP 2012H', u'COMP 1002'), (u'COMP 2012H', u'COMP 1021'), (u'COMP 2012H', u'COMP 1022P'), (u'COMP 2012H', u'COMP 1022Q'), (u'COMP 2012H', u'ISOM 3230'), (u'COMP 2611', u'COMP 1004'), (u'COMP 2611', u'COMP 2011'), (u'COMP 2611', u'COMP 2012H'), (u'COMP 2711H', u'MATH 1014'), (u'COMP 2711H', u'MATH 1020'), (u'COMP 2711H', u'MATH 1024'), (u'COMP 3021', u'COMP 2012'), (u'COMP 3021', u'COMP 2012H'), (u'COMP 3031', u'COMP 2012'), (u'COMP 3031', u'COMP 2012H'), (u'COMP 3111', u'COMP 2012'), (u'COMP 3111', u'COMP 2012H'), (u'COMP 3111H', u'COMP 2012'), (u'COMP 3111H', u'COMP 2012H'), (u'COMP 3211', u'COMP 2011'), (u'COMP 3211', u'COMP 2012'), (u'COMP 3211', u'COMP 2012H'), (u'COMP 3311', u'COMP 2011'), (u'COMP 3311', u'COMP 2012'), (u'COMP 3311', u'COMP 2012H'), (u'COMP 3511', u'COMP 2611'), (u'COMP 3511', u'ELEC 2300'), (u'COMP 3511', u'COMP 1002'), (u'COMP 3511', u'COMP 1004'), (u'COMP 3511', u'COMP 2011'), (u'COMP 3511', u'COMP 2012H'), (u'COMP 3632', u'COMP 2012'), (u'COMP 3632', u'COMP 2012H'), (u'COMP 3711', u'COMP 2011'), (u'COMP 3711', u'COMP 2012'), (u'COMP 3711', u'COMP 2012H'), (u'COMP 3711', u'COMP 2711'), (u'COMP 3711', u'COMP 2711H'), (u'COMP 3711', u'MATH 2343'), (u'COMP 3711H', u'COMP 2011'), (u'COMP 3711H', u'COMP 2012'), (u'COMP 3711H', u'COMP 2012H'), (u'COMP 3711H', u'COMP 2711'), (u'COMP 3711H', u'COMP 2711H'), (u'COMP 3711H', u'MATH 2343'), (u'COMP 3721', u'COMP 3711'), (u'COMP 3721', u'COMP 3711H'), (u'COMP 3721', u'MATH 2111'), (u'COMP 3721', u'MATH 2121'), (u'COMP 3721', u'MATH 2350'), (u'COMP 4021', u'COMP 2012'), (u'COMP 4021', u'COMP 2012H'), (u'COMP 4311', u'COMP 3311'), (u'COMP 4331', u'IELM 2510'), (u'COMP 4331', u'ISOM 2500'), (u'COMP 4331', u'LIFS 3150'), (u'COMP 4331', u'MATH 2411'), (u'COMP 4421', u'COMP 2011'), (u'COMP 4421', u'COMP 2012'), (u'COMP 4421', u'COMP 2012H'), (u'COMP 4421', u'MATH 2011'), (u'COMP 4421', u'MATH 2111'), (u'COMP 4421', u'MATH 2350'), (u'COMP 4421', u'MATH 2351'), (u'COMP 4421', u'MATH 2352'), (u'COMP 4461', u'COMP 2011'), (u'COMP 4621', u'COMP 3511'), (u'COMP 4651', u'COMP 2011'), (u'COMP 4651', u'COMP 2012H'), (u'COMP 4901J', u'COMP 2012'), (u'COMP 4901J', u'COMP 2012H'), (u'COMP 4901J', u'COMP 3711'), (u'COMP 4901J', u'COMP 3711H'), (u'COMP 6912', u'COMP 6911')]\n"
     ]
    }
   ],
   "source": [
    "nodes = []\n",
    "links = []\n",
    "\n",
    "for course in all_courses:\n",
    "    name = course['name'].split(' - ')[0]\n",
    "    nodes.append(name)\n",
    "    for highlight in course['prerequisite_list']:\n",
    "        links.append((name,highlight))\n",
    "        if highlight not in nodes:\n",
    "            nodes.append(highlight)\n",
    "            \n",
    "print nodes\n",
    "print '\\n'\n",
    "print links"
   ]
  },
  {
   "cell_type": "code",
   "execution_count": 9,
   "metadata": {
    "collapsed": false
   },
   "outputs": [],
   "source": [
    "# import matplotlib.pyplot as plt\n",
    "# import networkx as nx\n",
    "\n",
    "# G=nx.Graph()\n",
    "# G.add_nodes_from(nodes)\n",
    "# pos=nx.spring_layout(G) # positions for all nodes\n",
    "\n",
    "# # nodes\n",
    "# nx.draw_networkx_nodes(G,pos,\n",
    "#                        nodelist=nodes,\n",
    "#                        node_color='r',\n",
    "#                        node_size=800,\n",
    "#                         alpha=0.8)\n",
    "\n",
    "# # edges\n",
    "# nx.draw_networkx_edges(G,pos,width=1.0,alpha=0.5)\n",
    "# nx.draw_networkx_edges(G,pos,\n",
    "#                        edgelist=links,\n",
    "#                        width=8,alpha=0.5,edge_color='r')\n",
    "\n",
    "\n",
    "# # # some math labels\n",
    "# # labels={}\n",
    "# # labels[0]=r'$a$'\n",
    "# # labels[1]=r'$b$'\n",
    "# # labels[2]=r'$c$'\n",
    "# # labels[3]=r'$d$'\n",
    "# # labels[4]=r'$\\alpha$'\n",
    "# # labels[5]=r'$\\beta$'\n",
    "# # labels[6]=r'$\\gamma$'\n",
    "# # labels[7]=r'$\\delta$'\n",
    "# # nx.draw_networkx_labels(G,pos,labels,font_size=16)\n",
    "\n",
    "# plt.axis('off')\n",
    "# plt.savefig(\"labels_and_colors.png\") # save as png\n",
    "# plt.show() # display"
   ]
  },
  {
   "cell_type": "code",
   "execution_count": 18,
   "metadata": {
    "collapsed": false,
    "scrolled": false
   },
   "outputs": [
    {
     "data": {
      "text/html": [
       "<!doctype html><html><head>  <title>Network | Basic usage</title></head><body><script type=\"text/javascript\">function setUpFrame() {     var frame = window.frames[\"style_file0\"];    frame.runVis([{\"node_shape\": \"dot\", \"degree\": 3.0, \"title\": \"COMP 1001\", \"color\": \"#8BA8D3\", \"y\": 1.3581444786295198, \"x\": 8.44725794109732, \"border_width\": 0, \"id\": \"COMP 1001\"}, {\"node_shape\": \"dot\", \"degree\": 3.0, \"title\": \"COMP 1021\", \"color\": \"#8BA8D3\", \"y\": 9.452222481458133, \"x\": 7.255417930983393, \"border_width\": 0, \"id\": \"COMP 1021\"}, {\"node_shape\": \"dot\", \"degree\": 3.0, \"title\": \"COMP 1022P\", \"color\": \"#8BA8D3\", \"y\": 0.7303039097468182, \"x\": 2.4196417412104574, \"border_width\": 0, \"id\": \"COMP 1022P\"}, {\"node_shape\": \"dot\", \"degree\": 3.0, \"title\": \"COMP 1022Q\", \"color\": \"#8BA8D3\", \"y\": 4.845542477756261, \"x\": 0.010122566134520602, \"border_width\": 0, \"id\": \"COMP 1022Q\"}, {\"node_shape\": \"dot\", \"degree\": 3.0, \"title\": \"COMP 1029A\", \"color\": \"#8BA8D3\", \"y\": 3.340645399177695, \"x\": 0.27395489770728615, \"border_width\": 0, \"id\": \"COMP 1029A\"}, {\"node_shape\": \"dot\", \"degree\": 3.0, \"title\": \"COMP 1002\", \"color\": \"#8BA8D3\", \"y\": 5.608785684658245, \"x\": 0.05404961501904064, \"border_width\": 0, \"id\": \"COMP 1002\"}, {\"node_shape\": \"dot\", \"degree\": 3.0, \"title\": \"COMP 1004\", \"color\": \"#8BA8D3\", \"y\": 5.905081264301869, \"x\": 9.89398774459705, \"border_width\": 0, \"id\": \"COMP 1004\"}, {\"node_shape\": \"dot\", \"degree\": 3.0, \"title\": \"COMP 1029C\", \"color\": \"#8BA8D3\", \"y\": 9.593084954300355, \"x\": 6.899640044148656, \"border_width\": 0, \"id\": \"COMP 1029C\"}, {\"node_shape\": \"dot\", \"degree\": 3.0, \"title\": \"ISOM 3230\", \"color\": \"#8BA8D3\", \"y\": 0.0, \"x\": 4.962307119223277, \"border_width\": 0, \"id\": \"ISOM 3230\"}, {\"node_shape\": \"dot\", \"degree\": 3.0, \"title\": \"ISOM 3320\", \"color\": \"#8BA8D3\", \"y\": 9.061836288692968, \"x\": 7.91401970434194, \"border_width\": 0, \"id\": \"ISOM 3320\"}, {\"node_shape\": \"dot\", \"degree\": 3.0, \"title\": \"COMP 1029J\", \"color\": \"#8BA8D3\", \"y\": 9.930036608527717, \"x\": 5.806579924512692, \"border_width\": 0, \"id\": \"COMP 1029J\"}, {\"node_shape\": \"dot\", \"degree\": 3.0, \"title\": \"COMP 1029P\", \"color\": \"#8BA8D3\", \"y\": 3.6296834663582382, \"x\": 9.822767039796524, \"border_width\": 0, \"id\": \"COMP 1029P\"}, {\"node_shape\": \"dot\", \"degree\": 3.0, \"title\": \"COMP 1029V\", \"color\": \"#8BA8D3\", \"y\": 0.1157043312106295, \"x\": 6.104414397054436, \"border_width\": 0, \"id\": \"COMP 1029V\"}, {\"node_shape\": \"dot\", \"degree\": 3.0, \"title\": \"COMP 1991\", \"color\": \"#8BA8D3\", \"y\": 2.5662750400760928, \"x\": 9.38436794830023, \"border_width\": 0, \"id\": \"COMP 1991\"}, {\"node_shape\": \"dot\", \"degree\": 3.0, \"title\": \"COMP 1999\", \"color\": \"#8BA8D3\", \"y\": 7.084037641382926, \"x\": 0.4451299200600174, \"border_width\": 0, \"id\": \"COMP 1999\"}, {\"node_shape\": \"dot\", \"degree\": 3.0, \"title\": \"COMP 2011\", \"color\": \"#8BA8D3\", \"y\": 4.086774443156226, \"x\": 0.10072788022698348, \"border_width\": 0, \"id\": \"COMP 2011\"}, {\"node_shape\": \"dot\", \"degree\": 3.0, \"title\": \"COMP 2012\", \"color\": \"#8BA8D3\", \"y\": 6.721841997647177, \"x\": 0.3173643233840636, \"border_width\": 0, \"id\": \"COMP 2012\"}, {\"node_shape\": \"dot\", \"degree\": 3.0, \"title\": \"COMP 2012H\", \"color\": \"#8BA8D3\", \"y\": 5.147765742411999, \"x\": 10.0, \"border_width\": 0, \"id\": \"COMP 2012H\"}, {\"node_shape\": \"dot\", \"degree\": 3.0, \"title\": \"COMP 2521\", \"color\": \"#8BA8D3\", \"y\": 1.1169647516414487, \"x\": 8.148502251718728, \"border_width\": 0, \"id\": \"COMP 2521\"}, {\"node_shape\": \"dot\", \"degree\": 3.0, \"title\": \"COMP 2611\", \"color\": \"#8BA8D3\", \"y\": 4.0057279598295, \"x\": 9.900834572806309, \"border_width\": 0, \"id\": \"COMP 2611\"}, {\"node_shape\": \"dot\", \"degree\": 3.0, \"title\": \"COMP 2711\", \"color\": \"#8BA8D3\", \"y\": 6.351304693197184, \"x\": 0.22252947177474777, \"border_width\": 0, \"id\": \"COMP 2711\"}, {\"node_shape\": \"dot\", \"degree\": 3.0, \"title\": \"COMP 2711H\", \"color\": \"#8BA8D3\", \"y\": 0.23554107277299302, \"x\": 6.468211509648217, \"border_width\": 0, \"id\": \"COMP 2711H\"}, {\"node_shape\": \"dot\", \"degree\": 3.0, \"title\": \"MATH 1014\", \"color\": \"#8BA8D3\", \"y\": 8.876220721132505, \"x\": 1.854836445421975, \"border_width\": 0, \"id\": \"MATH 1014\"}, {\"node_shape\": \"dot\", \"degree\": 3.0, \"title\": \"MATH 1020\", \"color\": \"#8BA8D3\", \"y\": 6.284571718656981, \"x\": 9.841337537552606, \"border_width\": 0, \"id\": \"MATH 1020\"}, {\"node_shape\": \"dot\", \"degree\": 3.0, \"title\": \"MATH 1024\", \"color\": \"#8BA8D3\", \"y\": 0.018402404299321416, \"x\": 5.344764487003668, \"border_width\": 0, \"id\": \"MATH 1024\"}, {\"node_shape\": \"dot\", \"degree\": 3.0, \"title\": \"COMP 3021\", \"color\": \"#8BA8D3\", \"y\": 2.3076678611910317, \"x\": 0.777685288170618, \"border_width\": 0, \"id\": \"COMP 3021\"}, {\"node_shape\": \"dot\", \"degree\": 3.0, \"title\": \"COMP 3031\", \"color\": \"#8BA8D3\", \"y\": 9.768510025330105, \"x\": 3.535211080293403, \"border_width\": 0, \"id\": \"COMP 3031\"}, {\"node_shape\": \"dot\", \"degree\": 3.0, \"title\": \"COMP 3111\", \"color\": \"#8BA8D3\", \"y\": 7.7469417561055085, \"x\": 0.8298605332089422, \"border_width\": 0, \"id\": \"COMP 3111\"}, {\"node_shape\": \"dot\", \"degree\": 3.0, \"title\": \"COMP 3111H\", \"color\": \"#8BA8D3\", \"y\": 2.9149145026870444, \"x\": 9.546366221631379, \"border_width\": 0, \"id\": \"COMP 3111H\"}, {\"node_shape\": \"dot\", \"degree\": 3.0, \"title\": \"COMP 3211\", \"color\": \"#8BA8D3\", \"y\": 1.9865963846655337, \"x\": 0.9903071190046803, \"border_width\": 0, \"id\": \"COMP 3211\"}, {\"node_shape\": \"dot\", \"degree\": 3.0, \"title\": \"COMP 3311\", \"color\": \"#8BA8D3\", \"y\": 5.990608332592736, \"x\": 0.0947417077277059, \"border_width\": 0, \"id\": \"COMP 3311\"}, {\"node_shape\": \"dot\", \"degree\": 3.0, \"title\": \"COMP 3511\", \"color\": \"#8BA8D3\", \"y\": 0.3735795049569696, \"x\": 3.0951901882425474, \"border_width\": 0, \"id\": \"COMP 3511\"}, {\"node_shape\": \"dot\", \"degree\": 3.0, \"title\": \"ELEC 2300\", \"color\": \"#8BA8D3\", \"y\": 8.642820828750766, \"x\": 1.5489749543568831, \"border_width\": 0, \"id\": \"ELEC 2300\"}, {\"node_shape\": \"dot\", \"degree\": 3.0, \"title\": \"COMP 3632\", \"color\": \"#8BA8D3\", \"y\": 9.973862471789618, \"x\": 5.425746197982697, \"border_width\": 0, \"id\": \"COMP 3632\"}, {\"node_shape\": \"dot\", \"degree\": 3.0, \"title\": \"COMP 3711\", \"color\": \"#8BA8D3\", \"y\": 9.089220953945173, \"x\": 2.1731889687029824, \"border_width\": 0, \"id\": \"COMP 3711\"}, {\"node_shape\": \"dot\", \"degree\": 3.0, \"title\": \"MATH 2343\", \"color\": \"#8BA8D3\", \"y\": 4.3841924075954175, \"x\": 9.964217999945557, \"border_width\": 0, \"id\": \"MATH 2343\"}, {\"node_shape\": \"dot\", \"degree\": 3.0, \"title\": \"COMP 3711H\", \"color\": \"#8BA8D3\", \"y\": 3.7115360606693337, \"x\": 0.17663058215852978, \"border_width\": 0, \"id\": \"COMP 3711H\"}, {\"node_shape\": \"dot\", \"degree\": 3.0, \"title\": \"COMP 3721\", \"color\": \"#8BA8D3\", \"y\": 7.4117193532318995, \"x\": 0.6444307990002186, \"border_width\": 0, \"id\": \"COMP 3721\"}, {\"node_shape\": \"dot\", \"degree\": 3.0, \"title\": \"MATH 2111\", \"color\": \"#8BA8D3\", \"y\": 1.6413699555436572, \"x\": 8.706553999106653, \"border_width\": 0, \"id\": \"MATH 2111\"}, {\"node_shape\": \"dot\", \"degree\": 3.0, \"title\": \"MATH 2121\", \"color\": \"#8BA8D3\", \"y\": 0.5176271251624799, \"x\": 2.738816723633608, \"border_width\": 0, \"id\": \"MATH 2121\"}, {\"node_shape\": \"dot\", \"degree\": 3.0, \"title\": \"MATH 2350\", \"color\": \"#8BA8D3\", \"y\": 4.461960371819839, \"x\": 0.02284700931423491, \"border_width\": 0, \"id\": \"MATH 2350\"}, {\"node_shape\": \"dot\", \"degree\": 3.0, \"title\": \"COMP 4021\", \"color\": \"#8BA8D3\", \"y\": 4.766622645071228, \"x\": 9.96757599774209, \"border_width\": 0, \"id\": \"COMP 4021\"}, {\"node_shape\": \"dot\", \"degree\": 3.0, \"title\": \"COMP 4311\", \"color\": \"#8BA8D3\", \"y\": 0.04807027483816052, \"x\": 5.726640066079934, \"border_width\": 0, \"id\": \"COMP 4311\"}, {\"node_shape\": \"dot\", \"degree\": 3.0, \"title\": \"COMP 4331\", \"color\": \"#8BA8D3\", \"y\": 0.9332133201745492, \"x\": 2.0945852411839296, \"border_width\": 0, \"id\": \"COMP 4331\"}, {\"node_shape\": \"dot\", \"degree\": 3.0, \"title\": \"IELM 2510\", \"color\": \"#8BA8D3\", \"y\": 1.718812457918867, \"x\": 1.2639970968931804, \"border_width\": 0, \"id\": \"IELM 2510\"}, {\"node_shape\": \"dot\", \"degree\": 3.0, \"title\": \"ISOM 2500\", \"color\": \"#8BA8D3\", \"y\": 0.13293497315193745, \"x\": 3.8230015865312446, \"border_width\": 0, \"id\": \"ISOM 2500\"}, {\"node_shape\": \"dot\", \"degree\": 3.0, \"title\": \"LIFS 3150\", \"color\": \"#8BA8D3\", \"y\": 3.274204502019603, \"x\": 9.679385424202115, \"border_width\": 0, \"id\": \"LIFS 3150\"}, {\"node_shape\": \"dot\", \"degree\": 3.0, \"title\": \"MATH 2411\", \"color\": \"#8BA8D3\", \"y\": 0.8718421112615129, \"x\": 7.851780053132722, \"border_width\": 0, \"id\": \"MATH 2411\"}, {\"node_shape\": \"dot\", \"degree\": 3.0, \"title\": \"COMP 4421\", \"color\": \"#8BA8D3\", \"y\": 9.284524636825601, \"x\": 7.600640446164032, \"border_width\": 0, \"id\": \"COMP 4421\"}, {\"node_shape\": \"dot\", \"degree\": 3.0, \"title\": \"MATH 2011\", \"color\": \"#8BA8D3\", \"y\": 9.631530851077208, \"x\": 3.1776441572650334, \"border_width\": 0, \"id\": \"MATH 2011\"}, {\"node_shape\": \"dot\", \"degree\": 3.0, \"title\": \"MATH 2351\", \"color\": \"#8BA8D3\", \"y\": 5.531380021253955, \"x\": 9.977973858698281, \"border_width\": 0, \"id\": \"MATH 2351\"}, {\"node_shape\": \"dot\", \"degree\": 3.0, \"title\": \"MATH 2352\", \"color\": \"#8BA8D3\", \"y\": 8.067800761487554, \"x\": 1.0413017514952358, \"border_width\": 0, \"id\": \"MATH 2352\"}, {\"node_shape\": \"dot\", \"degree\": 3.0, \"title\": \"COMP 4461\", \"color\": \"#8BA8D3\", \"y\": 2.6475166070266725, \"x\": 0.5996530504341717, \"border_width\": 0, \"id\": \"COMP 4461\"}, {\"node_shape\": \"dot\", \"degree\": 3.0, \"title\": \"COMP 4621\", \"color\": \"#8BA8D3\", \"y\": 7.3516892013276935, \"x\": 9.42141675831316, \"border_width\": 0, \"id\": \"COMP 4621\"}, {\"node_shape\": \"dot\", \"degree\": 3.0, \"title\": \"COMP 4651\", \"color\": \"#8BA8D3\", \"y\": 8.83341837598892, \"x\": 8.223871876990428, \"border_width\": 0, \"id\": \"COMP 4651\"}, {\"node_shape\": \"dot\", \"degree\": 3.0, \"title\": \"COMP 4900\", \"color\": \"#8BA8D3\", \"y\": 9.882820951532999, \"x\": 3.902092131158115, \"border_width\": 0, \"id\": \"COMP 4900\"}, {\"node_shape\": \"dot\", \"degree\": 3.0, \"title\": \"COMP 4901J\", \"color\": \"#8BA8D3\", \"y\": 2.260418787503951, \"x\": 9.153711031859817, \"border_width\": 0, \"id\": \"COMP 4901J\"}, {\"node_shape\": \"dot\", \"degree\": 3.0, \"title\": \"COMP 4971A\", \"color\": \"#8BA8D3\", \"y\": 9.850657257789067, \"x\": 6.181695340631318, \"border_width\": 0, \"id\": \"COMP 4971A\"}, {\"node_shape\": \"dot\", \"degree\": 3.0, \"title\": \"COMP 4971C\", \"color\": \"#8BA8D3\", \"y\": 2.980151332382253, \"x\": 0.40841937055364513, \"border_width\": 0, \"id\": \"COMP 4971C\"}, {\"node_shape\": \"dot\", \"degree\": 3.0, \"title\": \"COMP 4971D\", \"color\": \"#8BA8D3\", \"y\": 1.9298099465402663, \"x\": 8.96036437908946, \"border_width\": 0, \"id\": \"COMP 4971D\"}, {\"node_shape\": \"dot\", \"degree\": 3.0, \"title\": \"COMP 4971F\", \"color\": \"#8BA8D3\", \"y\": 1.4196701689059088, \"x\": 1.5030668932846558, \"border_width\": 0, \"id\": \"COMP 4971F\"}, {\"node_shape\": \"dot\", \"degree\": 3.0, \"title\": \"COMP 4981\", \"color\": \"#8BA8D3\", \"y\": 8.307902740759204, \"x\": 8.776206709424478, \"border_width\": 0, \"id\": \"COMP 4981\"}, {\"node_shape\": \"dot\", \"degree\": 3.0, \"title\": \"COMP 4981H\", \"color\": \"#8BA8D3\", \"y\": 1.1505730582004532, \"x\": 1.7779732349819128, \"border_width\": 0, \"id\": \"COMP 4981H\"}, {\"node_shape\": \"dot\", \"degree\": 3.0, \"title\": \"COMP 4988\", \"color\": \"#8BA8D3\", \"y\": 0.33632345084846754, \"x\": 6.837958008362058, \"border_width\": 0, \"id\": \"COMP 4988\"}, {\"node_shape\": \"dot\", \"degree\": 3.0, \"title\": \"COMP 4989\", \"color\": \"#8BA8D3\", \"y\": 9.3250941156869, \"x\": 2.4750394609118223, \"border_width\": 0, \"id\": \"COMP 4989\"}, {\"node_shape\": \"dot\", \"degree\": 3.0, \"title\": \"COMP 5112\", \"color\": \"#8BA8D3\", \"y\": 5.229219790299058, \"x\": 0.0, \"border_width\": 0, \"id\": \"COMP 5112\"}, {\"node_shape\": \"dot\", \"degree\": 3.0, \"title\": \"COMP 5211\", \"color\": \"#8BA8D3\", \"y\": 8.542098778093191, \"x\": 8.472925799458494, \"border_width\": 0, \"id\": \"COMP 5211\"}, {\"node_shape\": \"dot\", \"degree\": 3.0, \"title\": \"COMP 5331\", \"color\": \"#8BA8D3\", \"y\": 8.342166463630043, \"x\": 1.3098667879534394, \"border_width\": 0, \"id\": \"COMP 5331\"}, {\"node_shape\": \"dot\", \"degree\": 3.0, \"title\": \"COMP 5411\", \"color\": \"#8BA8D3\", \"y\": 9.911198928625275, \"x\": 4.28378378632526, \"border_width\": 0, \"id\": \"COMP 5411\"}, {\"node_shape\": \"dot\", \"degree\": 3.0, \"title\": \"COMP 5621\", \"color\": \"#8BA8D3\", \"y\": 6.649970665438648, \"x\": 9.721177977839538, \"border_width\": 0, \"id\": \"COMP 5621\"}, {\"node_shape\": \"dot\", \"degree\": 3.0, \"title\": \"COMP 5631\", \"color\": \"#8BA8D3\", \"y\": 0.7110534650120204, \"x\": 7.504403913042415, \"border_width\": 0, \"id\": \"COMP 5631\"}, {\"node_shape\": \"dot\", \"degree\": 3.0, \"title\": \"COMP 5711\", \"color\": \"#8BA8D3\", \"y\": 7.996166091997719, \"x\": 9.003276005303036, \"border_width\": 0, \"id\": \"COMP 5711\"}, {\"node_shape\": \"dot\", \"degree\": 3.0, \"title\": \"COMP 6311E\", \"color\": \"#8BA8D3\", \"y\": 6.990143092634971, \"x\": 9.546209819595747, \"border_width\": 0, \"id\": \"COMP 6311E\"}, {\"node_shape\": \"dot\", \"degree\": 3.0, \"title\": \"COMP 6770\", \"color\": \"#8BA8D3\", \"y\": 9.98047149473482, \"x\": 5.042979803515404, \"border_width\": 0, \"id\": \"COMP 6770\"}, {\"node_shape\": \"dot\", \"degree\": 3.0, \"title\": \"COMP 6911\", \"color\": \"#8BA8D3\", \"y\": 9.498805080294675, \"x\": 2.8184174349804088, \"border_width\": 0, \"id\": \"COMP 6911\"}, {\"node_shape\": \"dot\", \"degree\": 3.0, \"title\": \"COMP 6912\", \"color\": \"#8BA8D3\", \"y\": 9.75940617003989, \"x\": 6.554889779400119, \"border_width\": 0, \"id\": \"COMP 6912\"}, {\"node_shape\": \"dot\", \"degree\": 3.0, \"title\": \"COMP 6921C\", \"color\": \"#8BA8D3\", \"y\": 0.49437179531046793, \"x\": 7.188863611442286, \"border_width\": 0, \"id\": \"COMP 6921C\"}, {\"node_shape\": \"dot\", \"degree\": 3.0, \"title\": \"COMP 6921U\", \"color\": \"#8BA8D3\", \"y\": 0.07960433094645528, \"x\": 4.202211086840181, \"border_width\": 0, \"id\": \"COMP 6921U\"}, {\"node_shape\": \"dot\", \"degree\": 3.0, \"title\": \"COMP 6921V\", \"color\": \"#8BA8D3\", \"y\": 0.2506361950466101, \"x\": 3.458088254935603, \"border_width\": 0, \"id\": \"COMP 6921V\"}, {\"node_shape\": \"dot\", \"degree\": 3.0, \"title\": \"COMP 6931A\", \"color\": \"#8BA8D3\", \"y\": 9.984129595647573, \"x\": 4.659611318334146, \"border_width\": 0, \"id\": \"COMP 6931A\"}, {\"node_shape\": \"dot\", \"degree\": 3.0, \"title\": \"COMP 6990\", \"color\": \"#8BA8D3\", \"y\": 7.677830350020899, \"x\": 9.21774992795366, \"border_width\": 0, \"id\": \"COMP 6990\"}, {\"node_shape\": \"dot\", \"degree\": 3.0, \"title\": \"COMP 7990\", \"color\": \"#8BA8D3\", \"y\": 0.01152443852161485, \"x\": 4.578980504813974, \"border_width\": 0, \"id\": \"COMP 7990\"}], [{\"source\": 4, \"target\": 5, \"title\": \"test\"}, {\"source\": 4, \"target\": 6, \"title\": \"test\"}, {\"source\": 4, \"target\": 1, \"title\": \"test\"}, {\"source\": 4, \"target\": 2, \"title\": \"test\"}, {\"source\": 7, \"target\": 1, \"title\": \"test\"}, {\"source\": 7, \"target\": 2, \"title\": \"test\"}, {\"source\": 7, \"target\": 3, \"title\": \"test\"}, {\"source\": 7, \"target\": 8, \"title\": \"test\"}, {\"source\": 7, \"target\": 9, \"title\": \"test\"}, {\"source\": 10, \"target\": 5, \"title\": \"test\"}, {\"source\": 10, \"target\": 6, \"title\": \"test\"}, {\"source\": 10, \"target\": 1, \"title\": \"test\"}, {\"source\": 10, \"target\": 3, \"title\": \"test\"}, {\"source\": 10, \"target\": 8, \"title\": \"test\"}, {\"source\": 11, \"target\": 5, \"title\": \"test\"}, {\"source\": 11, \"target\": 6, \"title\": \"test\"}, {\"source\": 11, \"target\": 2, \"title\": \"test\"}, {\"source\": 11, \"target\": 3, \"title\": \"test\"}, {\"source\": 11, \"target\": 8, \"title\": \"test\"}, {\"source\": 11, \"target\": 9, \"title\": \"test\"}, {\"source\": 12, \"target\": 5, \"title\": \"test\"}, {\"source\": 12, \"target\": 6, \"title\": \"test\"}, {\"source\": 12, \"target\": 1, \"title\": \"test\"}, {\"source\": 12, \"target\": 2, \"title\": \"test\"}, {\"source\": 12, \"target\": 9, \"title\": \"test\"}, {\"source\": 15, \"target\": 1, \"title\": \"test\"}, {\"source\": 15, \"target\": 2, \"title\": \"test\"}, {\"source\": 15, \"target\": 3, \"title\": \"test\"}, {\"source\": 15, \"target\": 8, \"title\": \"test\"}, {\"source\": 16, \"target\": 6, \"title\": \"test\"}, {\"source\": 16, \"target\": 15, \"title\": \"test\"}, {\"source\": 17, \"target\": 5, \"title\": \"test\"}, {\"source\": 17, \"target\": 1, \"title\": \"test\"}, {\"source\": 17, \"target\": 2, \"title\": \"test\"}, {\"source\": 17, \"target\": 3, \"title\": \"test\"}, {\"source\": 17, \"target\": 8, \"title\": \"test\"}, {\"source\": 19, \"target\": 6, \"title\": \"test\"}, {\"source\": 19, \"target\": 15, \"title\": \"test\"}, {\"source\": 19, \"target\": 17, \"title\": \"test\"}, {\"source\": 21, \"target\": 22, \"title\": \"test\"}, {\"source\": 21, \"target\": 23, \"title\": \"test\"}, {\"source\": 21, \"target\": 24, \"title\": \"test\"}, {\"source\": 25, \"target\": 16, \"title\": \"test\"}, {\"source\": 25, \"target\": 17, \"title\": \"test\"}, {\"source\": 26, \"target\": 16, \"title\": \"test\"}, {\"source\": 26, \"target\": 17, \"title\": \"test\"}, {\"source\": 27, \"target\": 16, \"title\": \"test\"}, {\"source\": 27, \"target\": 17, \"title\": \"test\"}, {\"source\": 28, \"target\": 16, \"title\": \"test\"}, {\"source\": 28, \"target\": 17, \"title\": \"test\"}, {\"source\": 29, \"target\": 15, \"title\": \"test\"}, {\"source\": 29, \"target\": 16, \"title\": \"test\"}, {\"source\": 29, \"target\": 17, \"title\": \"test\"}, {\"source\": 30, \"target\": 15, \"title\": \"test\"}, {\"source\": 30, \"target\": 16, \"title\": \"test\"}, {\"source\": 30, \"target\": 17, \"title\": \"test\"}, {\"source\": 31, \"target\": 19, \"title\": \"test\"}, {\"source\": 31, \"target\": 32, \"title\": \"test\"}, {\"source\": 31, \"target\": 5, \"title\": \"test\"}, {\"source\": 31, \"target\": 6, \"title\": \"test\"}, {\"source\": 31, \"target\": 15, \"title\": \"test\"}, {\"source\": 31, \"target\": 17, \"title\": \"test\"}, {\"source\": 33, \"target\": 16, \"title\": \"test\"}, {\"source\": 33, \"target\": 17, \"title\": \"test\"}, {\"source\": 34, \"target\": 15, \"title\": \"test\"}, {\"source\": 34, \"target\": 16, \"title\": \"test\"}, {\"source\": 34, \"target\": 17, \"title\": \"test\"}, {\"source\": 34, \"target\": 20, \"title\": \"test\"}, {\"source\": 34, \"target\": 21, \"title\": \"test\"}, {\"source\": 34, \"target\": 35, \"title\": \"test\"}, {\"source\": 36, \"target\": 15, \"title\": \"test\"}, {\"source\": 36, \"target\": 16, \"title\": \"test\"}, {\"source\": 36, \"target\": 17, \"title\": \"test\"}, {\"source\": 36, \"target\": 20, \"title\": \"test\"}, {\"source\": 36, \"target\": 21, \"title\": \"test\"}, {\"source\": 36, \"target\": 35, \"title\": \"test\"}, {\"source\": 37, \"target\": 34, \"title\": \"test\"}, {\"source\": 37, \"target\": 36, \"title\": \"test\"}, {\"source\": 37, \"target\": 38, \"title\": \"test\"}, {\"source\": 37, \"target\": 39, \"title\": \"test\"}, {\"source\": 37, \"target\": 40, \"title\": \"test\"}, {\"source\": 41, \"target\": 16, \"title\": \"test\"}, {\"source\": 41, \"target\": 17, \"title\": \"test\"}, {\"source\": 42, \"target\": 30, \"title\": \"test\"}, {\"source\": 43, \"target\": 44, \"title\": \"test\"}, {\"source\": 43, \"target\": 45, \"title\": \"test\"}, {\"source\": 43, \"target\": 46, \"title\": \"test\"}, {\"source\": 43, \"target\": 47, \"title\": \"test\"}, {\"source\": 48, \"target\": 15, \"title\": \"test\"}, {\"source\": 48, \"target\": 16, \"title\": \"test\"}, {\"source\": 48, \"target\": 17, \"title\": \"test\"}, {\"source\": 48, \"target\": 49, \"title\": \"test\"}, {\"source\": 48, \"target\": 38, \"title\": \"test\"}, {\"source\": 48, \"target\": 40, \"title\": \"test\"}, {\"source\": 48, \"target\": 50, \"title\": \"test\"}, {\"source\": 48, \"target\": 51, \"title\": \"test\"}, {\"source\": 52, \"target\": 15, \"title\": \"test\"}, {\"source\": 53, \"target\": 31, \"title\": \"test\"}, {\"source\": 54, \"target\": 15, \"title\": \"test\"}, {\"source\": 54, \"target\": 17, \"title\": \"test\"}, {\"source\": 56, \"target\": 16, \"title\": \"test\"}, {\"source\": 56, \"target\": 17, \"title\": \"test\"}, {\"source\": 56, \"target\": 34, \"title\": \"test\"}, {\"source\": 56, \"target\": 36, \"title\": \"test\"}, {\"source\": 75, \"target\": 74, \"title\": \"test\"}]);}</script><iframe name=\"style_file0\" src=\"style_file0.html\" height=\"1200px\" width=\"100%;\"></iframe></body></html>"
      ],
      "text/plain": [
       "<IPython.core.display.HTML object>"
      ]
     },
     "execution_count": 18,
     "metadata": {},
     "output_type": "execute_result"
    }
   ],
   "source": [
    "# G = nx.connected_watts_strogatz_graph(30,5,.2)\n",
    "# nodes = G.nodes()\n",
    "# edges = G.edges()\n",
    "# # define the initial positions of the nodes using networkx's spring_layout function, and add to the nodes_dict.\n",
    "import networkx as nx\n",
    "import matplotlib.pyplot as plt\n",
    "import visJS2jupyter\n",
    "from visJS2jupyter import visJS_module\n",
    "\n",
    "G=nx.Graph()\n",
    "G.add_nodes_from(nodes)\n",
    "pos=nx.spring_layout(G) # positions for all nodes\n",
    "pos = nx.spring_layout(G)\n",
    "nodes_dict = [{\"id\":n,\n",
    "              \"x\":pos[n][0]*10,\n",
    "              \"y\":pos[n][1]*10} for n in nodes]\n",
    "node_map = dict(zip(nodes,range(len(nodes))))  # map to indices for source/target in edges\n",
    "\n",
    "edges_dict = [{\"source\":node_map[links[i][0]], \"target\":node_map[links[i][1]], \n",
    "              \"title\":'test'} for i in range(len(links))]\n",
    "\n",
    "visJS2jupyter.visJS_module.visjs_network(nodes_dict,edges_dict)"
   ]
  },
  {
   "cell_type": "markdown",
   "metadata": {},
   "source": [
    "The previous block of code render the graph below:\n",
    "\n",
    "![alt text](images/graph.png \"Graph\")"
   ]
  },
  {
   "cell_type": "code",
   "execution_count": null,
   "metadata": {
    "collapsed": false
   },
   "outputs": [],
   "source": [
    "import pandas as pd\n",
    "print len(all_courses)\n",
    "df = pd.DataFrame.from_dict(all_courses)\n",
    "df"
   ]
  },
  {
   "cell_type": "code",
   "execution_count": null,
   "metadata": {
    "collapsed": true
   },
   "outputs": [],
   "source": []
  },
  {
   "cell_type": "code",
   "execution_count": null,
   "metadata": {
    "collapsed": false
   },
   "outputs": [],
   "source": [
    "print('closing driver...')\n",
    "display.stop()\n",
    "driver.quit()\n",
    "print('closed!')"
   ]
  },
  {
   "cell_type": "code",
   "execution_count": null,
   "metadata": {
    "collapsed": true
   },
   "outputs": [],
   "source": []
  }
 ],
 "metadata": {
  "kernelspec": {
   "display_name": "Python [py27]",
   "language": "python",
   "name": "Python [py27]"
  },
  "language_info": {
   "codemirror_mode": {
    "name": "ipython",
    "version": 2
   },
   "file_extension": ".py",
   "mimetype": "text/x-python",
   "name": "python",
   "nbconvert_exporter": "python",
   "pygments_lexer": "ipython2",
   "version": "2.7.13"
  }
 },
 "nbformat": 4,
 "nbformat_minor": 2
}
